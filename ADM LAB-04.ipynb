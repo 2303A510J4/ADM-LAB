{
  "nbformat": 4,
  "nbformat_minor": 0,
  "metadata": {
    "colab": {
      "provenance": [],
      "authorship_tag": "ABX9TyObiYytJzmJEyJ4Xpb8dfEy",
      "include_colab_link": true
    },
    "kernelspec": {
      "name": "python3",
      "display_name": "Python 3"
    },
    "language_info": {
      "name": "python"
    }
  },
  "cells": [
    {
      "cell_type": "markdown",
      "metadata": {
        "id": "view-in-github",
        "colab_type": "text"
      },
      "source": [
        "<a href=\"https://colab.research.google.com/github/2303A510J4/ADM-LAB/blob/main/ADM%20LAB-04.ipynb\" target=\"_parent\"><img src=\"https://colab.research.google.com/assets/colab-badge.svg\" alt=\"Open In Colab\"/></a>"
      ]
    },
    {
      "cell_type": "code",
      "source": [
        "import pandas as pd\n",
        "\n",
        "# Load the dataset\n",
        "file_path = \"/content/SANITH [MConverter.eu].csv\"\n",
        "df = pd.read_csv(file_path)\n",
        "\n",
        "# Display first few rows\n",
        "print(df.head())\n"
      ],
      "metadata": {
        "colab": {
          "base_uri": "https://localhost:8080/"
        },
        "id": "LMSlpYuDayEK",
        "outputId": "ce879e5b-6a7a-499a-869c-62d90c43aeba"
      },
      "execution_count": 18,
      "outputs": [
        {
          "output_type": "stream",
          "name": "stdout",
          "text": [
            "   EmployeeID   Name Department  Gender DateOfBirth  Salary\n",
            "0           1  Alice         HR  Female  1985-04-12   50000\n",
            "1           2    Bob         IT    Male  1990-07-22   60000\n",
            "2           3  Carol         HR  Female  1992-09-30   55000\n",
            "3           4   Dave         IT    Male  1988-11-15   70000\n",
            "4           5    Eve    Finance  Female  1995-01-05   80000\n"
          ]
        }
      ]
    },
    {
      "cell_type": "code",
      "source": [
        "from datetime import datetime\n",
        "\n",
        "# Convert DateOfBirth to datetime format\n",
        "df[\"DateOfBirth\"] = pd.to_datetime(df[\"DateOfBirth\"])\n",
        "\n",
        "# Calculate Age\n",
        "df[\"Age\"] = df[\"DateOfBirth\"].apply(lambda x: datetime.now().year - x.year)\n",
        "\n",
        "# Display updated dataset\n",
        "print(df.head())\n"
      ],
      "metadata": {
        "colab": {
          "base_uri": "https://localhost:8080/"
        },
        "id": "BbHFqp62eKmL",
        "outputId": "aa641b82-63ca-46ff-b90a-9484c7e53ec5"
      },
      "execution_count": 19,
      "outputs": [
        {
          "output_type": "stream",
          "name": "stdout",
          "text": [
            "   EmployeeID   Name Department  Gender DateOfBirth  Salary  Age\n",
            "0           1  Alice         HR  Female  1985-04-12   50000   40\n",
            "1           2    Bob         IT    Male  1990-07-22   60000   35\n",
            "2           3  Carol         HR  Female  1992-09-30   55000   33\n",
            "3           4   Dave         IT    Male  1988-11-15   70000   37\n",
            "4           5    Eve    Finance  Female  1995-01-05   80000   30\n"
          ]
        }
      ]
    },
    {
      "cell_type": "code",
      "source": [
        "from sklearn.preprocessing import LabelEncoder\n",
        "\n",
        "# Apply label encoding (Male = 1, Female = 0)\n",
        "le = LabelEncoder()\n",
        "df[\"Gender_Label\"] = le.fit_transform(df[\"Gender\"])\n",
        "\n",
        "# Display updated dataset\n",
        "print(df.head())\n"
      ],
      "metadata": {
        "colab": {
          "base_uri": "https://localhost:8080/"
        },
        "id": "i0-qb_95dDrH",
        "outputId": "b91e124e-95a9-4455-8940-4e58953d6ec1"
      },
      "execution_count": 20,
      "outputs": [
        {
          "output_type": "stream",
          "name": "stdout",
          "text": [
            "   EmployeeID   Name Department  Gender DateOfBirth  Salary  Age  Gender_Label\n",
            "0           1  Alice         HR  Female  1985-04-12   50000   40             0\n",
            "1           2    Bob         IT    Male  1990-07-22   60000   35             1\n",
            "2           3  Carol         HR  Female  1992-09-30   55000   33             0\n",
            "3           4   Dave         IT    Male  1988-11-15   70000   37             1\n",
            "4           5    Eve    Finance  Female  1995-01-05   80000   30             0\n"
          ]
        }
      ]
    },
    {
      "cell_type": "code",
      "source": [
        "# Apply One-Hot Encoding\n",
        "df_encoded = pd.get_dummies(df, columns=[\"Department\"], prefix=\"Dept\")\n",
        "\n",
        "# Display updated dataset\n",
        "print(df_encoded.head())\n"
      ],
      "metadata": {
        "colab": {
          "base_uri": "https://localhost:8080/"
        },
        "id": "NUte0-3sePh6",
        "outputId": "4425f323-d82c-4a27-c6e6-c6245892f0fa"
      },
      "execution_count": 21,
      "outputs": [
        {
          "output_type": "stream",
          "name": "stdout",
          "text": [
            "   EmployeeID   Name  Gender DateOfBirth  Salary  Age  Gender_Label  \\\n",
            "0           1  Alice  Female  1985-04-12   50000   40             0   \n",
            "1           2    Bob    Male  1990-07-22   60000   35             1   \n",
            "2           3  Carol  Female  1992-09-30   55000   33             0   \n",
            "3           4   Dave    Male  1988-11-15   70000   37             1   \n",
            "4           5    Eve  Female  1995-01-05   80000   30             0   \n",
            "\n",
            "   Dept_Finance  Dept_HR  Dept_IT  Dept_Marketing  \n",
            "0         False     True    False           False  \n",
            "1         False    False     True           False  \n",
            "2         False     True    False           False  \n",
            "3         False    False     True           False  \n",
            "4          True    False    False           False  \n"
          ]
        }
      ]
    },
    {
      "cell_type": "code",
      "source": [
        "# Group by Department and calculate the average salary\n",
        "dept_salary_avg = df.groupby(\"Department\")[\"Salary\"].mean().reset_index()\n",
        "\n",
        "# Display results\n",
        "print(dept_salary_avg)\n"
      ],
      "metadata": {
        "colab": {
          "base_uri": "https://localhost:8080/"
        },
        "id": "giMwpxGjeSiK",
        "outputId": "0d3e2627-a03c-4854-8710-2efb61ab8262"
      },
      "execution_count": 22,
      "outputs": [
        {
          "output_type": "stream",
          "name": "stdout",
          "text": [
            "  Department        Salary\n",
            "0    Finance  84000.000000\n",
            "1         HR  52500.000000\n",
            "2         IT  63333.333333\n",
            "3  Marketing  70000.000000\n"
          ]
        }
      ]
    },
    {
      "cell_type": "code",
      "source": [
        "# Pivot Table: Count of Employees by Gender per Department\n",
        "pivot_gender_dept = df.pivot_table(index=\"Department\", columns=\"Gender\", values=\"EmployeeID\", aggfunc=\"count\", fill_value=0)\n",
        "\n",
        "# Display results\n",
        "print(pivot_gender_dept)\n"
      ],
      "metadata": {
        "colab": {
          "base_uri": "https://localhost:8080/"
        },
        "id": "lCdtL0uOeWNq",
        "outputId": "5df2d816-d61f-4875-a724-a379e1b95a7c"
      },
      "execution_count": 23,
      "outputs": [
        {
          "output_type": "stream",
          "name": "stdout",
          "text": [
            "Gender      Female  Male\n",
            "Department              \n",
            "Finance          2     1\n",
            "HR               2     0\n",
            "IT               0     3\n",
            "Marketing        1     1\n"
          ]
        }
      ]
    },
    {
      "cell_type": "code",
      "source": [
        "# Save the transformed dataset to CSV\n",
        "df_encoded.to_csv(\"/content/SANITH [MConverter.eu].csv\", index=False)\n",
        "\n",
        "print(\"Transformed dataset saved successfully!\")\n",
        "\n"
      ],
      "metadata": {
        "colab": {
          "base_uri": "https://localhost:8080/"
        },
        "id": "VuCD-97ned-7",
        "outputId": "89bfb21d-3967-4021-c5a8-d9f882b177a5"
      },
      "execution_count": 27,
      "outputs": [
        {
          "output_type": "stream",
          "name": "stdout",
          "text": [
            "Transformed dataset saved successfully!\n"
          ]
        }
      ]
    }
  ]
}