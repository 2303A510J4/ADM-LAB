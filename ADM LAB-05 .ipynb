{
  "nbformat": 4,
  "nbformat_minor": 0,
  "metadata": {
    "colab": {
      "provenance": [],
      "authorship_tag": "ABX9TyO5fZcSxigWqXMsczmAthPO",
      "include_colab_link": true
    },
    "kernelspec": {
      "name": "python3",
      "display_name": "Python 3"
    },
    "language_info": {
      "name": "python"
    }
  },
  "cells": [
    {
      "cell_type": "markdown",
      "metadata": {
        "id": "view-in-github",
        "colab_type": "text"
      },
      "source": [
        "<a href=\"https://colab.research.google.com/github/2303A510J4/ADM-LAB/blob/main/ADM%20LAB-05%20.ipynb\" target=\"_parent\"><img src=\"https://colab.research.google.com/assets/colab-badge.svg\" alt=\"Open In Colab\"/></a>"
      ]
    },
    {
      "cell_type": "code",
      "source": [
        "import pandas as pd\n",
        "from mlxtend.frequent_patterns import apriori, association_rules\n",
        "from mlxtend.preprocessing import TransactionEncoder\n",
        "\n",
        "# Load the dataset\n",
        "file_path = \"/content/lab 05 dataset [MConverter.eu].csv\"  # Update with your actual file path\n",
        "df = pd.read_csv(file_path)\n",
        "\n",
        "# Convert the dataset into a list of transactions\n",
        "transactions = df.drop(columns=['transaction_id']).values.tolist()\n",
        "transactions = [[item for item in transaction if str(item) != 'nan'] for transaction in transactions]\n",
        "\n",
        "# Encode transactions into a one-hot DataFrame\n",
        "te = TransactionEncoder()\n",
        "te_ary = te.fit(transactions).transform(transactions)\n",
        "df_encoded = pd.DataFrame(te_ary, columns=te.columns_)\n",
        "\n",
        "# Apply the Apriori algorithm\n",
        "min_support = 0.2  # Adjust as needed\n",
        "frequent_itemsets = apriori(df_encoded, min_support=min_support, use_colnames=True)\n",
        "\n",
        "# Generate association rules\n",
        "min_confidence = 0.5  # Adjust as needed\n",
        "rules = association_rules(frequent_itemsets, metric=\"confidence\", min_threshold=min_confidence)\n",
        "\n",
        "# Display results\n",
        "print(\"Frequent Itemsets:\")\n",
        "print(frequent_itemsets)\n",
        "print(\"\\nAssociation Rules:\")\n",
        "print(rules)\n",
        "\n",
        "\n",
        "\n"
      ],
      "metadata": {
        "id": "vMjZmKiomX5j",
        "colab": {
          "base_uri": "https://localhost:8080/"
        },
        "outputId": "6445270e-e3cd-4520-b500-1c748bdf87f1"
      },
      "execution_count": 32,
      "outputs": [
        {
          "output_type": "stream",
          "name": "stdout",
          "text": [
            "Frequent Itemsets:\n",
            "    support                 itemsets\n",
            "0       0.2                   (beer)\n",
            "1       0.7                  (bread)\n",
            "2       0.6                 (butter)\n",
            "3       0.7                 (diaper)\n",
            "4       0.5                   (milk)\n",
            "5       0.2            (beer, bread)\n",
            "6       0.4          (butter, bread)\n",
            "7       0.4          (diaper, bread)\n",
            "8       0.3            (milk, bread)\n",
            "9       0.4         (butter, diaper)\n",
            "10      0.3           (butter, milk)\n",
            "11      0.4           (diaper, milk)\n",
            "12      0.2  (butter, diaper, bread)\n",
            "13      0.2    (butter, milk, bread)\n",
            "14      0.2    (diaper, milk, bread)\n",
            "15      0.2   (butter, diaper, milk)\n",
            "\n",
            "Association Rules:\n",
            "         antecedents consequents  antecedent support  consequent support  \\\n",
            "0             (beer)     (bread)                 0.2                 0.7   \n",
            "1           (butter)     (bread)                 0.6                 0.7   \n",
            "2            (bread)    (butter)                 0.7                 0.6   \n",
            "3           (diaper)     (bread)                 0.7                 0.7   \n",
            "4            (bread)    (diaper)                 0.7                 0.7   \n",
            "5             (milk)     (bread)                 0.5                 0.7   \n",
            "6           (butter)    (diaper)                 0.6                 0.7   \n",
            "7           (diaper)    (butter)                 0.7                 0.6   \n",
            "8           (butter)      (milk)                 0.6                 0.5   \n",
            "9             (milk)    (butter)                 0.5                 0.6   \n",
            "10          (diaper)      (milk)                 0.7                 0.5   \n",
            "11            (milk)    (diaper)                 0.5                 0.7   \n",
            "12  (butter, diaper)     (bread)                 0.4                 0.7   \n",
            "13   (butter, bread)    (diaper)                 0.4                 0.7   \n",
            "14   (diaper, bread)    (butter)                 0.4                 0.6   \n",
            "15    (butter, milk)     (bread)                 0.3                 0.7   \n",
            "16   (butter, bread)      (milk)                 0.4                 0.5   \n",
            "17     (milk, bread)    (butter)                 0.3                 0.6   \n",
            "18    (diaper, milk)     (bread)                 0.4                 0.7   \n",
            "19   (diaper, bread)      (milk)                 0.4                 0.5   \n",
            "20     (milk, bread)    (diaper)                 0.3                 0.7   \n",
            "21  (butter, diaper)      (milk)                 0.4                 0.5   \n",
            "22    (butter, milk)    (diaper)                 0.3                 0.7   \n",
            "23    (diaper, milk)    (butter)                 0.4                 0.6   \n",
            "\n",
            "    support  confidence      lift  representativity  leverage  conviction  \\\n",
            "0       0.2    1.000000  1.428571               1.0      0.06         inf   \n",
            "1       0.4    0.666667  0.952381               1.0     -0.02    0.900000   \n",
            "2       0.4    0.571429  0.952381               1.0     -0.02    0.933333   \n",
            "3       0.4    0.571429  0.816327               1.0     -0.09    0.700000   \n",
            "4       0.4    0.571429  0.816327               1.0     -0.09    0.700000   \n",
            "5       0.3    0.600000  0.857143               1.0     -0.05    0.750000   \n",
            "6       0.4    0.666667  0.952381               1.0     -0.02    0.900000   \n",
            "7       0.4    0.571429  0.952381               1.0     -0.02    0.933333   \n",
            "8       0.3    0.500000  1.000000               1.0      0.00    1.000000   \n",
            "9       0.3    0.600000  1.000000               1.0      0.00    1.000000   \n",
            "10      0.4    0.571429  1.142857               1.0      0.05    1.166667   \n",
            "11      0.4    0.800000  1.142857               1.0      0.05    1.500000   \n",
            "12      0.2    0.500000  0.714286               1.0     -0.08    0.600000   \n",
            "13      0.2    0.500000  0.714286               1.0     -0.08    0.600000   \n",
            "14      0.2    0.500000  0.833333               1.0     -0.04    0.800000   \n",
            "15      0.2    0.666667  0.952381               1.0     -0.01    0.900000   \n",
            "16      0.2    0.500000  1.000000               1.0      0.00    1.000000   \n",
            "17      0.2    0.666667  1.111111               1.0      0.02    1.200000   \n",
            "18      0.2    0.500000  0.714286               1.0     -0.08    0.600000   \n",
            "19      0.2    0.500000  1.000000               1.0      0.00    1.000000   \n",
            "20      0.2    0.666667  0.952381               1.0     -0.01    0.900000   \n",
            "21      0.2    0.500000  1.000000               1.0      0.00    1.000000   \n",
            "22      0.2    0.666667  0.952381               1.0     -0.01    0.900000   \n",
            "23      0.2    0.500000  0.833333               1.0     -0.04    0.800000   \n",
            "\n",
            "    zhangs_metric   jaccard  certainty  kulczynski  \n",
            "0        0.375000  0.285714   1.000000    0.642857  \n",
            "1       -0.111111  0.444444  -0.111111    0.619048  \n",
            "2       -0.142857  0.444444  -0.071429    0.619048  \n",
            "3       -0.428571  0.400000  -0.428571    0.571429  \n",
            "4       -0.428571  0.400000  -0.428571    0.571429  \n",
            "5       -0.250000  0.333333  -0.333333    0.514286  \n",
            "6       -0.111111  0.444444  -0.111111    0.619048  \n",
            "7       -0.142857  0.444444  -0.071429    0.619048  \n",
            "8        0.000000  0.375000   0.000000    0.550000  \n",
            "9        0.000000  0.375000   0.000000    0.550000  \n",
            "10       0.416667  0.500000   0.142857    0.685714  \n",
            "11       0.250000  0.500000   0.333333    0.685714  \n",
            "12      -0.400000  0.222222  -0.666667    0.392857  \n",
            "13      -0.400000  0.222222  -0.666667    0.392857  \n",
            "14      -0.250000  0.250000  -0.250000    0.416667  \n",
            "15      -0.066667  0.250000  -0.111111    0.476190  \n",
            "16       0.000000  0.285714   0.000000    0.450000  \n",
            "17       0.142857  0.285714   0.166667    0.500000  \n",
            "18      -0.400000  0.222222  -0.666667    0.392857  \n",
            "19       0.000000  0.285714   0.000000    0.450000  \n",
            "20      -0.066667  0.250000  -0.111111    0.476190  \n",
            "21       0.000000  0.285714   0.000000    0.450000  \n",
            "22      -0.066667  0.250000  -0.111111    0.476190  \n",
            "23      -0.250000  0.250000  -0.250000    0.416667  \n"
          ]
        },
        {
          "output_type": "stream",
          "name": "stderr",
          "text": [
            "/usr/local/lib/python3.11/dist-packages/ipykernel/ipkernel.py:283: DeprecationWarning: `should_run_async` will not call `transform_cell` automatically in the future. Please pass the result to `transformed_cell` argument and any exception that happen during thetransform in `preprocessing_exc_tuple` in IPython 7.17 and above.\n",
            "  and should_run_async(code)\n"
          ]
        }
      ]
    }
  ]
}