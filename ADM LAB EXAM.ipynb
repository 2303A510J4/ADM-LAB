{
  "nbformat": 4,
  "nbformat_minor": 0,
  "metadata": {
    "colab": {
      "provenance": [],
      "authorship_tag": "ABX9TyPx3FOMTQ4v43FmWhmCCE0F",
      "include_colab_link": true
    },
    "kernelspec": {
      "name": "python3",
      "display_name": "Python 3"
    },
    "language_info": {
      "name": "python"
    }
  },
  "cells": [
    {
      "cell_type": "markdown",
      "metadata": {
        "id": "view-in-github",
        "colab_type": "text"
      },
      "source": [
        "<a href=\"https://colab.research.google.com/github/2303A510J4/ADM-LAB/blob/main/ADM%20LAB%20EXAM.ipynb\" target=\"_parent\"><img src=\"https://colab.research.google.com/assets/colab-badge.svg\" alt=\"Open In Colab\"/></a>"
      ]
    },
    {
      "cell_type": "code",
      "source": [
        "import pandas as pd\n",
        "uni = pd.read_csv(\"/content/dataset 1.csv\")\n",
        "print(\"First 10 rows:\")\n",
        "print(uni.head(10))\n",
        "print(\"\\nMissing values:\")\n",
        "print(uni.isnull().sum())\n",
        "uni.fillna(method='ffill', inplace=True)\n",
        "\n",
        "uni_encoded = pd.get_dummies(uni, columns=['Gender', 'School Type'])\n",
        "print(\"\\nDataset after one-hot encoding:\")\n",
        "print(uni_encoded.head())\n",
        "\n",
        "\n",
        "match_stats = uni['Match Score'].agg(['mean', 'median', 'std'])\n",
        "print(\"\\nMatch Score Statistics:\")\n",
        "print(match_stats)\n",
        "\n",
        "\n",
        "school_counts = uni['School Type'].value_counts()\n",
        "print(\"\\nTotal number of students per School Type:\")\n",
        "print(school_counts)"
      ],
      "metadata": {
        "id": "vMjZmKiomX5j",
        "colab": {
          "base_uri": "https://localhost:8080/"
        },
        "outputId": "9f80fabf-5acd-4ccd-c14b-0b1459cdf4b8"
      },
      "execution_count": 16,
      "outputs": [
        {
          "output_type": "stream",
          "name": "stdout",
          "text": [
            "First 10 rows:\n",
            "   Gender School Type  Age  Match Score\n",
            "0    Male      Public   18           82\n",
            "1  Female     Private   19           88\n",
            "2    Male      Public   20           77\n",
            "3  Female     Private   21           92\n",
            "4    Male     Private   22           85\n",
            "5  Female      Public   23           90\n",
            "6    Male      Public   24           80\n",
            "7  Female     Private   25           95\n",
            "8    Male      Public   26           79\n",
            "9  Female     Private   27           91\n",
            "\n",
            "Missing values:\n",
            "Gender         0\n",
            "School Type    0\n",
            "Age            0\n",
            "Match Score    0\n",
            "dtype: int64\n",
            "\n",
            "Dataset after one-hot encoding:\n",
            "   Age  Match Score  Gender_Female  Gender_Male  School Type_Private  \\\n",
            "0   18           82          False         True                False   \n",
            "1   19           88           True        False                 True   \n",
            "2   20           77          False         True                False   \n",
            "3   21           92           True        False                 True   \n",
            "4   22           85          False         True                 True   \n",
            "\n",
            "   School Type_Public  \n",
            "0                True  \n",
            "1               False  \n",
            "2                True  \n",
            "3               False  \n",
            "4               False  \n",
            "\n",
            "Match Score Statistics:\n",
            "mean      85.812500\n",
            "median    85.500000\n",
            "std        4.956057\n",
            "Name: Match Score, dtype: float64\n",
            "\n",
            "Total number of students per School Type:\n",
            "School Type\n",
            "Public     9\n",
            "Private    7\n",
            "Name: count, dtype: int64\n"
          ]
        },
        {
          "output_type": "stream",
          "name": "stderr",
          "text": [
            "<ipython-input-16-2935e27ef554>:7: FutureWarning: DataFrame.fillna with 'method' is deprecated and will raise in a future version. Use obj.ffill() or obj.bfill() instead.\n",
            "  uni.fillna(method='ffill', inplace=True)\n"
          ]
        }
      ]
    }
  ]
}