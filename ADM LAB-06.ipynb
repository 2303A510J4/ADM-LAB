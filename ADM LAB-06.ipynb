{
  "nbformat": 4,
  "nbformat_minor": 0,
  "metadata": {
    "colab": {
      "provenance": [],
      "authorship_tag": "ABX9TyPwG+AfAs7WArMip67E7yqc",
      "include_colab_link": true
    },
    "kernelspec": {
      "name": "python3",
      "display_name": "Python 3"
    },
    "language_info": {
      "name": "python"
    }
  },
  "cells": [
    {
      "cell_type": "markdown",
      "metadata": {
        "id": "view-in-github",
        "colab_type": "text"
      },
      "source": [
        "<a href=\"https://colab.research.google.com/github/2303A510J4/ADM-LAB/blob/main/ADM%20LAB-06.ipynb\" target=\"_parent\"><img src=\"https://colab.research.google.com/assets/colab-badge.svg\" alt=\"Open In Colab\"/></a>"
      ]
    },
    {
      "cell_type": "code",
      "execution_count": 6,
      "metadata": {
        "colab": {
          "base_uri": "https://localhost:8080/"
        },
        "id": "BtEYTAgfruKU",
        "outputId": "5ddfaed6-6015-49b8-ae18-59d76fe31043"
      },
      "outputs": [
        {
          "output_type": "stream",
          "name": "stdout",
          "text": [
            "Original Dataset:\n",
            "   Student ID  Gender Date of Birth  Study Time Grade School Type  Absences  \\\n",
            "0           1    Male    1996-12-03          11     D      Public         2   \n",
            "1           2  Female    2001-09-15           5     D     Private         0   \n",
            "2           3    Male    2002-08-09           8     A     Private         2   \n",
            "3           4    Male    1999-04-29           8     A     Private         3   \n",
            "4           5    Male    1995-06-11           9     B     Private         1   \n",
            "\n",
            "   Math Score  Reading Score  Writing Score  \n",
            "0          72             91             69  \n",
            "1          66             58             62  \n",
            "2          75             99             77  \n",
            "3          57             76             97  \n",
            "4          78             51             78  \n",
            "\n",
            "Processed Dataset:\n",
            "   Study Time  Grade  Absences  Math Score  Reading Score  Writing Score  \\\n",
            "0          11      3         2          72             91             69   \n",
            "1           5      3         0          66             58             62   \n",
            "2           8      0         2          75             99             77   \n",
            "3           8      0         3          57             76             97   \n",
            "4           9      1         1          78             51             78   \n",
            "\n",
            "   Gender_Male  School Type_Public  Age  Total Score  \n",
            "0         True                True   29          232  \n",
            "1        False               False   24          186  \n",
            "2         True               False   23          251  \n",
            "3         True               False   26          230  \n",
            "4         True               False   30          207  \n",
            "\n",
            "Grouped and Aggregated Data:\n",
            "   Grade  Total Score        Age  Study Time  Absences\n",
            "0      0   232.535714  24.750000   10.035714        80\n",
            "1      1   215.500000  23.166667   10.750000        30\n",
            "2      2   230.428571  25.333333    9.095238        50\n",
            "3      3   227.304348  25.086957   10.217391        52\n",
            "4      4   210.062500  25.312500    9.062500        38\n"
          ]
        }
      ],
      "source": [
        "import pandas as pd\n",
        "from sklearn.preprocessing import LabelEncoder\n",
        "from datetime import datetime\n",
        "file_path = \"university_student.csv\"\n",
        "df = pd.read_csv(file_path)\n",
        "print(\"Original Dataset:\")\n",
        "print(df.head())\n",
        "df.fillna(df.mean(numeric_only=True), inplace=True)\n",
        "\n",
        "df = pd.get_dummies(df, columns=['Gender', 'School Type'], drop_first=True)\n",
        "\n",
        "label_encoder = LabelEncoder()\n",
        "df['Grade'] = label_encoder.fit_transform(df['Grade'])\n",
        "\n",
        "df['Date of Birth'] = pd.to_datetime(df['Date of Birth'])\n",
        "df['Age'] = datetime.now().year - df['Date of Birth'].dt.year\n",
        "\n",
        "df['Total Score'] = df[['Math Score', 'Reading Score', 'Writing Score']].sum(axis=1)\n",
        "\n",
        "df.drop(columns=['Date of Birth', 'Student ID'], inplace=True)\n",
        "\n",
        "grouped_data = df.groupby('Grade').agg({\n",
        "    'Total Score': 'mean',\n",
        "    'Age': 'mean',\n",
        "    'Study Time': 'mean',\n",
        "    'Absences': 'sum'\n",
        "}).reset_index()\n",
        "\n",
        "\n",
        "print(\"\\nProcessed Dataset:\")\n",
        "print(df.head())\n",
        "\n",
        "print(\"\\nGrouped and Aggregated Data:\")\n",
        "print(grouped_data)\n",
        "\n"
      ]
    }
  ]
}